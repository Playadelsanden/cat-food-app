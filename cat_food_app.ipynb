# Uncomment the next line if ipywidgets isn't installed
# !pip install ipywidgets

import ipywidgets as widgets
from IPython.display import display, clear_output

# Define your dictionary of food items with safety status for cats
# Example: "chocolate" is dangerous, "salmon" is generally safe, etc.
cat_food_safety = {
    'chocolate': 'Dangerous',
    'onion': 'Dangerous',
    'garlic': 'Dangerous',
    'salmon': 'Safe',
    'tuna': 'Safe',
    'milk': 'Caution: Some cats are lactose intolerant',
    # Add more items as needed...
}

# Create a text input widget for food item
food_input = widgets.Text(
    value='',
    placeholder='Enter a food item',
    description='Food:',
    disabled=False
)

# Create an output area to display the result
output = widgets.Output()

# Define a function that checks the food safety
def check_food_safety(b):
    with output:
        clear_output()
        food = food_input.value.lower().strip()  # Normalize the input
        # Check if the food is in our dictionary
        if food in cat_food_safety:
            print(f"{food.capitalize()} is {cat_food_safety[food]} for cats.")
        else:
            print(f"Sorry, I don't have data for {food}.")

# Create a button widget to trigger the safety check
check_button = widgets.Button(
    description='Check Safety',
    disabled=False,
    button_style='',  # 'success', 'info', 'warning', 'danger' can be used
    tooltip='Click to check food safety',
)

# Link the button to the function
check_button.on_click(check_food_safety)

# Display the widgets
display(food_input, check_button, output)
